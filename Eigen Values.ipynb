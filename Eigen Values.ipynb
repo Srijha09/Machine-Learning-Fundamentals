{
  "cells": [
    {
      "metadata": {
        "trusted": true
      },
      "cell_type": "code",
      "source": "import numpy as np\nimport pandas as pd\nimport sys\nimport time",
      "execution_count": 1,
      "outputs": []
    },
    {
      "metadata": {
        "trusted": true
      },
      "cell_type": "code",
      "source": "a=np.array([[1,-3,3],[3,-5,3],[6,-6,4]])\nprint(a)",
      "execution_count": 4,
      "outputs": [
        {
          "output_type": "stream",
          "text": "[[ 1 -3  3]\n [ 3 -5  3]\n [ 6 -6  4]]\n",
          "name": "stdout"
        }
      ]
    },
    {
      "metadata": {
        "trusted": true
      },
      "cell_type": "code",
      "source": "a1=a.transpose()\nprint(a1)",
      "execution_count": 8,
      "outputs": [
        {
          "output_type": "stream",
          "text": "[[ 1  3  6]\n [-3 -5 -6]\n [ 3  3  4]]\n",
          "name": "stdout"
        }
      ]
    },
    {
      "metadata": {
        "trusted": true
      },
      "cell_type": "code",
      "source": "x=a1.dot(a)\nprint(x)",
      "execution_count": 9,
      "outputs": [
        {
          "output_type": "stream",
          "text": "[[ 46 -54  36]\n [-54  70 -48]\n [ 36 -48  34]]\n",
          "name": "stdout"
        }
      ]
    },
    {
      "metadata": {
        "trusted": true
      },
      "cell_type": "code",
      "source": "#finding eigenvalues\nfrom numpy import array\nfrom numpy.linalg import eig",
      "execution_count": 10,
      "outputs": []
    },
    {
      "metadata": {
        "trusted": true
      },
      "cell_type": "code",
      "source": "#define matrix\nA = array([[-2,-4,2],[-2 ,1 ,2],[4,2,5]])",
      "execution_count": 19,
      "outputs": []
    },
    {
      "metadata": {
        "trusted": true
      },
      "cell_type": "code",
      "source": "print(A)",
      "execution_count": 20,
      "outputs": [
        {
          "output_type": "stream",
          "text": "[[-2 -4  2]\n [-2  1  2]\n [ 4  2  5]]\n",
          "name": "stdout"
        }
      ]
    },
    {
      "metadata": {
        "trusted": true
      },
      "cell_type": "code",
      "source": "#FACTORIZE\nvals, vectors = eig(A)",
      "execution_count": 21,
      "outputs": []
    },
    {
      "metadata": {
        "trusted": true
      },
      "cell_type": "code",
      "source": "print(vals)\nprint(vectors)",
      "execution_count": 22,
      "outputs": [
        {
          "output_type": "stream",
          "text": "[-5.  3.  6.]\n[[ 0.81649658  0.53452248  0.05842062]\n [ 0.40824829 -0.80178373  0.35052374]\n [-0.40824829 -0.26726124  0.93472998]]\n",
          "name": "stdout"
        }
      ]
    },
    {
      "metadata": {
        "trusted": true
      },
      "cell_type": "code",
      "source": "\n",
      "execution_count": null,
      "outputs": []
    }
  ],
  "metadata": {
    "kernelspec": {
      "name": "python36",
      "display_name": "Python 3.6",
      "language": "python"
    },
    "language_info": {
      "mimetype": "text/x-python",
      "nbconvert_exporter": "python",
      "name": "python",
      "pygments_lexer": "ipython3",
      "version": "3.6.6",
      "file_extension": ".py",
      "codemirror_mode": {
        "version": 3,
        "name": "ipython"
      }
    }
  },
  "nbformat": 4,
  "nbformat_minor": 2
}