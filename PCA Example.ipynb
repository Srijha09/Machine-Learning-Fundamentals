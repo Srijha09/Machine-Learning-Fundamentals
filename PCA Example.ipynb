{
  "cells": [
    {
      "metadata": {
        "trusted": true
      },
      "cell_type": "code",
      "source": "import pandas as pd",
      "execution_count": 52,
      "outputs": []
    },
    {
      "metadata": {
        "trusted": true
      },
      "cell_type": "code",
      "source": "#STEP1:make a dataframe \n#eating exercise and their body shape\ndf=pd.DataFrame(columns=['calory','breakfast','lunch','dinner','exercise','body shape'])",
      "execution_count": 53,
      "outputs": []
    },
    {
      "metadata": {
        "trusted": true
      },
      "cell_type": "code",
      "source": "df.loc[0]=[1200,1,0,0,2,'Skinny']\ndf.loc[1]=[2800,1,1,1,1,'Normal']\ndf.loc[2]=[3500,2,2,1,0,'Fat']\ndf.loc[3]=[1400,0,1,0,3,'Skinny']\ndf.loc[4]=[5000,2,2,2,0,'Fat']\ndf.loc[5]=[1300,0,0,1,2,'Skinny']\ndf.loc[6]=[3000,1,0,1,1,'Normal']\ndf.loc[7]=[4000,2,2,2,0,'Fat']\ndf.loc[8]=[2600,0,2,0,0,'Normal']\ndf.loc[9]=[3000,1,2,1,1,'Fat']\n",
      "execution_count": 54,
      "outputs": []
    },
    {
      "metadata": {
        "trusted": true
      },
      "cell_type": "code",
      "source": "df.head(3)",
      "execution_count": 55,
      "outputs": [
        {
          "output_type": "execute_result",
          "execution_count": 55,
          "data": {
            "text/html": "<div>\n<style scoped>\n    .dataframe tbody tr th:only-of-type {\n        vertical-align: middle;\n    }\n\n    .dataframe tbody tr th {\n        vertical-align: top;\n    }\n\n    .dataframe thead th {\n        text-align: right;\n    }\n</style>\n<table border=\"1\" class=\"dataframe\">\n  <thead>\n    <tr style=\"text-align: right;\">\n      <th></th>\n      <th>calory</th>\n      <th>breakfast</th>\n      <th>lunch</th>\n      <th>dinner</th>\n      <th>exercise</th>\n      <th>body shape</th>\n    </tr>\n  </thead>\n  <tbody>\n    <tr>\n      <th>0</th>\n      <td>1200</td>\n      <td>1</td>\n      <td>0</td>\n      <td>0</td>\n      <td>2</td>\n      <td>Skinny</td>\n    </tr>\n    <tr>\n      <th>1</th>\n      <td>2800</td>\n      <td>1</td>\n      <td>1</td>\n      <td>1</td>\n      <td>1</td>\n      <td>Normal</td>\n    </tr>\n    <tr>\n      <th>2</th>\n      <td>3500</td>\n      <td>2</td>\n      <td>2</td>\n      <td>1</td>\n      <td>0</td>\n      <td>Fat</td>\n    </tr>\n  </tbody>\n</table>\n</div>",
            "text/plain": "  calory breakfast lunch dinner exercise body shape\n0   1200         1     0      0        2     Skinny\n1   2800         1     1      1        1     Normal\n2   3500         2     2      1        0        Fat"
          },
          "metadata": {}
        }
      ]
    },
    {
      "metadata": {
        "trusted": true
      },
      "cell_type": "code",
      "source": "#STEP2: split feature vectors and labels\n#X is the features\nX=df[['calory','breakfast','lunch','dinner','exercise']]",
      "execution_count": 56,
      "outputs": []
    },
    {
      "metadata": {
        "trusted": true
      },
      "cell_type": "code",
      "source": "#Y is labels\nY= df[['body shape']]",
      "execution_count": 57,
      "outputs": []
    },
    {
      "metadata": {
        "trusted": true
      },
      "cell_type": "code",
      "source": "Y.head(5)",
      "execution_count": 58,
      "outputs": [
        {
          "output_type": "execute_result",
          "execution_count": 58,
          "data": {
            "text/html": "<div>\n<style scoped>\n    .dataframe tbody tr th:only-of-type {\n        vertical-align: middle;\n    }\n\n    .dataframe tbody tr th {\n        vertical-align: top;\n    }\n\n    .dataframe thead th {\n        text-align: right;\n    }\n</style>\n<table border=\"1\" class=\"dataframe\">\n  <thead>\n    <tr style=\"text-align: right;\">\n      <th></th>\n      <th>body shape</th>\n    </tr>\n  </thead>\n  <tbody>\n    <tr>\n      <th>0</th>\n      <td>Skinny</td>\n    </tr>\n    <tr>\n      <th>1</th>\n      <td>Normal</td>\n    </tr>\n    <tr>\n      <th>2</th>\n      <td>Fat</td>\n    </tr>\n    <tr>\n      <th>3</th>\n      <td>Skinny</td>\n    </tr>\n    <tr>\n      <th>4</th>\n      <td>Fat</td>\n    </tr>\n  </tbody>\n</table>\n</div>",
            "text/plain": "  body shape\n0     Skinny\n1     Normal\n2        Fat\n3     Skinny\n4        Fat"
          },
          "metadata": {}
        }
      ]
    },
    {
      "metadata": {
        "trusted": true
      },
      "cell_type": "code",
      "source": "X.tail(5)",
      "execution_count": 59,
      "outputs": [
        {
          "output_type": "execute_result",
          "execution_count": 59,
          "data": {
            "text/html": "<div>\n<style scoped>\n    .dataframe tbody tr th:only-of-type {\n        vertical-align: middle;\n    }\n\n    .dataframe tbody tr th {\n        vertical-align: top;\n    }\n\n    .dataframe thead th {\n        text-align: right;\n    }\n</style>\n<table border=\"1\" class=\"dataframe\">\n  <thead>\n    <tr style=\"text-align: right;\">\n      <th></th>\n      <th>calory</th>\n      <th>breakfast</th>\n      <th>lunch</th>\n      <th>dinner</th>\n      <th>exercise</th>\n    </tr>\n  </thead>\n  <tbody>\n    <tr>\n      <th>5</th>\n      <td>1300</td>\n      <td>0</td>\n      <td>0</td>\n      <td>1</td>\n      <td>2</td>\n    </tr>\n    <tr>\n      <th>6</th>\n      <td>3000</td>\n      <td>1</td>\n      <td>0</td>\n      <td>1</td>\n      <td>1</td>\n    </tr>\n    <tr>\n      <th>7</th>\n      <td>4000</td>\n      <td>2</td>\n      <td>2</td>\n      <td>2</td>\n      <td>0</td>\n    </tr>\n    <tr>\n      <th>8</th>\n      <td>2600</td>\n      <td>0</td>\n      <td>2</td>\n      <td>0</td>\n      <td>0</td>\n    </tr>\n    <tr>\n      <th>9</th>\n      <td>3000</td>\n      <td>1</td>\n      <td>2</td>\n      <td>1</td>\n      <td>1</td>\n    </tr>\n  </tbody>\n</table>\n</div>",
            "text/plain": "  calory breakfast lunch dinner exercise\n5   1300         0     0      1        2\n6   3000         1     0      1        1\n7   4000         2     2      2        0\n8   2600         0     2      0        0\n9   3000         1     2      1        1"
          },
          "metadata": {}
        }
      ]
    },
    {
      "metadata": {
        "trusted": true
      },
      "cell_type": "code",
      "source": "#STEP3: standardizing the features -RESCALING FEATURES TO HAVE THE SAME SCALE\nfrom sklearn.preprocessing import StandardScaler\nx_std=StandardScaler().fit_transform(X)\nprint (x_std)",
      "execution_count": 60,
      "outputs": [
        {
          "output_type": "stream",
          "text": "[[-1.35205803  0.         -1.3764944  -1.28571429  1.        ]\n [ 0.01711466  0.         -0.22941573  0.14285714  0.        ]\n [ 0.61612771  1.29099445  0.91766294  0.14285714 -1.        ]\n [-1.18091145 -1.29099445 -0.22941573 -1.28571429  2.        ]\n [ 1.89972711  1.29099445  0.91766294  1.57142857 -1.        ]\n [-1.26648474 -1.29099445 -1.3764944   0.14285714  1.        ]\n [ 0.18826125  0.         -1.3764944   0.14285714  0.        ]\n [ 1.04399418  1.29099445  0.91766294  1.57142857 -1.        ]\n [-0.15403193 -1.29099445  0.91766294 -1.28571429 -1.        ]\n [ 0.18826125  0.          0.91766294  0.14285714  0.        ]]\n",
          "name": "stdout"
        }
      ]
    },
    {
      "metadata": {
        "trusted": true
      },
      "cell_type": "code",
      "source": "#STEP4: FINDING THE COVARIANCE\nimport numpy as np",
      "execution_count": 61,
      "outputs": []
    },
    {
      "metadata": {
        "trusted": true
      },
      "cell_type": "code",
      "source": "#features are columns from x_std\nfeatures = x_std.T\ncovariance_matrix = np.cov(features)\nprint(covariance_matrix)",
      "execution_count": 62,
      "outputs": [
        {
          "output_type": "stream",
          "text": "[[ 1.11111111  0.88379717  0.76782385  0.89376551 -0.93179808]\n [ 0.88379717  1.11111111  0.49362406  0.81967902 -0.71721914]\n [ 0.76782385  0.49362406  1.11111111  0.40056715 -0.76471911]\n [ 0.89376551  0.81967902  0.40056715  1.11111111 -0.63492063]\n [-0.93179808 -0.71721914 -0.76471911 -0.63492063  1.11111111]]\n",
          "name": "stdout"
        }
      ]
    },
    {
      "metadata": {
        "trusted": true
      },
      "cell_type": "code",
      "source": "#EIGEN VALUES AND VECTORS DECOMPOSITION FROM COVARIANCE MATRIX\n#finding eigenvalues\nfrom numpy import array\nfrom numpy.linalg import eig",
      "execution_count": 63,
      "outputs": []
    },
    {
      "metadata": {
        "trusted": true
      },
      "cell_type": "code",
      "source": "#FACTORIZE\neig_vals, eig_vectors = np.linalg.eig(covariance_matrix)",
      "execution_count": 64,
      "outputs": []
    },
    {
      "metadata": {
        "trusted": true
      },
      "cell_type": "code",
      "source": "print('Eigenvalues \\n%s'%eig_vals)\nprint('Eigenvectors \\n%s'%eig_vectors)",
      "execution_count": 65,
      "outputs": [
        {
          "output_type": "stream",
          "text": "Eigenvalues \n[4.0657343  0.8387565  0.07629538 0.27758568 0.2971837 ]\nEigenvectors \n[[-0.508005   -0.0169937  -0.84711404  0.11637853  0.10244985]\n [-0.44660335 -0.36890361  0.12808055 -0.63112016 -0.49973822]\n [-0.38377913  0.70804084  0.20681005 -0.40305226  0.38232213]\n [-0.42845209 -0.53194699  0.3694462   0.22228235  0.58954327]\n [ 0.46002038 -0.2816592  -0.29450345 -0.61341895  0.49601841]]\n",
          "name": "stdout"
        }
      ]
    },
    {
      "metadata": {
        "trusted": true
      },
      "cell_type": "code",
      "source": "#we reduce dimension to 1 dimension,since 1st eigenvector is the largest\neig_vals[0]/sum(eig_vals)",
      "execution_count": 66,
      "outputs": [
        {
          "output_type": "execute_result",
          "execution_count": 66,
          "data": {
            "text/plain": "0.7318321731427544"
          },
          "metadata": {}
        }
      ]
    },
    {
      "metadata": {
        "trusted": true
      },
      "cell_type": "code",
      "source": "#EIGEN VECTOR FOR HIGHEST EIGEN VALUE\n#PROJECT DATA POINT ON SELECTED EIGEN VECTOR\nprojected_X=x_std.dot(eig_vectors.T[0])",
      "execution_count": 67,
      "outputs": []
    },
    {
      "metadata": {
        "trusted": true
      },
      "cell_type": "code",
      "source": "print(projected_X)",
      "execution_count": 68,
      "outputs": [
        {
          "output_type": "stream",
          "text": "[ 2.22600943  0.0181432  -1.76296611  2.73542407 -3.02711544  2.14702579\n  0.37142473 -2.59239883  0.39347815 -0.50902498]\n",
          "name": "stdout"
        }
      ]
    },
    {
      "metadata": {
        "trusted": true
      },
      "cell_type": "code",
      "source": "result = pd.DataFrame(projected_X, columns=['PC1'])\nresult['y-axis'] = 0.0\nresult['label']=Y",
      "execution_count": 69,
      "outputs": []
    },
    {
      "metadata": {
        "trusted": true
      },
      "cell_type": "code",
      "source": "result.head(10)",
      "execution_count": 70,
      "outputs": [
        {
          "output_type": "execute_result",
          "execution_count": 70,
          "data": {
            "text/html": "<div>\n<style scoped>\n    .dataframe tbody tr th:only-of-type {\n        vertical-align: middle;\n    }\n\n    .dataframe tbody tr th {\n        vertical-align: top;\n    }\n\n    .dataframe thead th {\n        text-align: right;\n    }\n</style>\n<table border=\"1\" class=\"dataframe\">\n  <thead>\n    <tr style=\"text-align: right;\">\n      <th></th>\n      <th>PC1</th>\n      <th>y-axis</th>\n      <th>label</th>\n    </tr>\n  </thead>\n  <tbody>\n    <tr>\n      <th>0</th>\n      <td>2.226009</td>\n      <td>0.0</td>\n      <td>Skinny</td>\n    </tr>\n    <tr>\n      <th>1</th>\n      <td>0.018143</td>\n      <td>0.0</td>\n      <td>Normal</td>\n    </tr>\n    <tr>\n      <th>2</th>\n      <td>-1.762966</td>\n      <td>0.0</td>\n      <td>Fat</td>\n    </tr>\n    <tr>\n      <th>3</th>\n      <td>2.735424</td>\n      <td>0.0</td>\n      <td>Skinny</td>\n    </tr>\n    <tr>\n      <th>4</th>\n      <td>-3.027115</td>\n      <td>0.0</td>\n      <td>Fat</td>\n    </tr>\n    <tr>\n      <th>5</th>\n      <td>2.147026</td>\n      <td>0.0</td>\n      <td>Skinny</td>\n    </tr>\n    <tr>\n      <th>6</th>\n      <td>0.371425</td>\n      <td>0.0</td>\n      <td>Normal</td>\n    </tr>\n    <tr>\n      <th>7</th>\n      <td>-2.592399</td>\n      <td>0.0</td>\n      <td>Fat</td>\n    </tr>\n    <tr>\n      <th>8</th>\n      <td>0.393478</td>\n      <td>0.0</td>\n      <td>Normal</td>\n    </tr>\n    <tr>\n      <th>9</th>\n      <td>-0.509025</td>\n      <td>0.0</td>\n      <td>Fat</td>\n    </tr>\n  </tbody>\n</table>\n</div>",
            "text/plain": "        PC1  y-axis   label\n0  2.226009     0.0  Skinny\n1  0.018143     0.0  Normal\n2 -1.762966     0.0     Fat\n3  2.735424     0.0  Skinny\n4 -3.027115     0.0     Fat\n5  2.147026     0.0  Skinny\n6  0.371425     0.0  Normal\n7 -2.592399     0.0     Fat\n8  0.393478     0.0  Normal\n9 -0.509025     0.0     Fat"
          },
          "metadata": {}
        }
      ]
    },
    {
      "metadata": {
        "trusted": true
      },
      "cell_type": "code",
      "source": "import matplotlib.pyplot as plt\nimport seaborn as sns\n%matplotlib inline",
      "execution_count": 71,
      "outputs": []
    },
    {
      "metadata": {
        "trusted": true
      },
      "cell_type": "code",
      "source": "sns.lmplot('PC1','y-axis',data=result,fit_reg=False,#x-axis,y-axis \n           scatter_kws={\"s\":50}, #marker size\n           hue=\"label\")#color\n\n#title\nplt.title('PCA result')",
      "execution_count": 72,
      "outputs": [
        {
          "output_type": "execute_result",
          "execution_count": 72,
          "data": {
            "text/plain": "Text(0.5, 1.0, 'PCA result')"
          },
          "metadata": {}
        },
        {
          "output_type": "display_data",
          "data": {
            "image/png": "[encoded data removed]",
            "text/plain": "<Figure size 432.25x360 with 1 Axes>"
          },
          "metadata": {
            "needs_background": "light"
          }
        }
      ]
    },
    {
      "metadata": {
        "trusted": true
      },
      "cell_type": "code",
      "source": "\"\"",
      "execution_count": null,
      "outputs": []
    }
  ],
  "metadata": {
    "kernelspec": {
      "name": "python36",
      "display_name": "Python 3.6",
      "language": "python"
    },
    "language_info": {
      "mimetype": "text/x-python",
      "nbconvert_exporter": "python",
      "name": "python",
      "pygments_lexer": "ipython3",
      "version": "3.6.6",
      "file_extension": ".py",
      "codemirror_mode": {
        "version": 3,
        "name": "ipython"
      }
    }
  },
  "nbformat": 4,
  "nbformat_minor": 2
}