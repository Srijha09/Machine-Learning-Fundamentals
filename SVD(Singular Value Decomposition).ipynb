{
  "cells": [
    {
      "metadata": {
        "trusted": true
      },
      "cell_type": "code",
      "source": "# singular value decomposition\nfrom numpy import array\nfrom scipy.linalg import svd",
      "execution_count": 4,
      "outputs": []
    },
    {
      "metadata": {
        "trusted": true
      },
      "cell_type": "code",
      "source": "#define a matrix\nA= array([[3,1,1],[-1,3,1]])\nprint(A)",
      "execution_count": 5,
      "outputs": [
        {
          "output_type": "stream",
          "text": "[[ 3  1  1]\n [-1  3  1]]\n",
          "name": "stdout"
        }
      ]
    },
    {
      "metadata": {
        "trusted": true
      },
      "cell_type": "code",
      "source": "#factorize\nU, s, V = svd(A)\nprint(U)\nprint(s)\nprint(V)",
      "execution_count": 7,
      "outputs": [
        {
          "output_type": "stream",
          "text": "[[-0.70710678 -0.70710678]\n [-0.70710678  0.70710678]]\n[3.46410162 3.16227766]\n[[-4.08248290e-01 -8.16496581e-01 -4.08248290e-01]\n [-8.94427191e-01  4.47213595e-01  5.27355937e-16]\n [-1.82574186e-01 -3.65148372e-01  9.12870929e-01]]\n",
          "name": "stdout"
        }
      ]
    },
    {
      "metadata": {
        "trusted": true
      },
      "cell_type": "code",
      "source": "#finding the left singular matrix(U)\nimport numpy as np\nfrom numpy.linalg import eig\nvalues1, vectors1 = eig(np.dot(A,A.T))",
      "execution_count": 9,
      "outputs": []
    },
    {
      "metadata": {
        "trusted": true
      },
      "cell_type": "code",
      "source": "values1 #lowest value ignored hence 0 is not shown in the matrix",
      "execution_count": 10,
      "outputs": [
        {
          "output_type": "execute_result",
          "execution_count": 10,
          "data": {
            "text/plain": "array([12., 10.])"
          },
          "metadata": {}
        }
      ]
    },
    {
      "metadata": {
        "trusted": true
      },
      "cell_type": "code",
      "source": "vectors1",
      "execution_count": 11,
      "outputs": [
        {
          "output_type": "execute_result",
          "execution_count": 11,
          "data": {
            "text/plain": "array([[ 0.70710678, -0.70710678],\n       [ 0.70710678,  0.70710678]])"
          },
          "metadata": {}
        }
      ]
    },
    {
      "metadata": {
        "trusted": true
      },
      "cell_type": "code",
      "source": "#finding the right singular matrix(V)\nimport numpy as np\nfrom numpy.linalg import eig\nvalues2, vectors2 = eig(np.dot(A.T,A))",
      "execution_count": 13,
      "outputs": []
    },
    {
      "metadata": {
        "trusted": true
      },
      "cell_type": "code",
      "source": "print(values2)",
      "execution_count": 14,
      "outputs": [
        {
          "output_type": "stream",
          "text": "[ 0. 10. 12.]\n",
          "name": "stdout"
        }
      ]
    },
    {
      "metadata": {
        "trusted": true
      },
      "cell_type": "code",
      "source": "print(vectors2)",
      "execution_count": 15,
      "outputs": [
        {
          "output_type": "stream",
          "text": "[[ 1.82574186e-01 -8.94427191e-01 -4.08248290e-01]\n [ 3.65148372e-01  4.47213595e-01 -8.16496581e-01]\n [-9.12870929e-01  5.07702013e-16 -4.08248290e-01]]\n",
          "name": "stdout"
        }
      ]
    },
    {
      "metadata": {
        "trusted": true
      },
      "cell_type": "code",
      "source": "sigma=np.diag(values1)",
      "execution_count": 16,
      "outputs": []
    },
    {
      "metadata": {
        "trusted": true
      },
      "cell_type": "code",
      "source": "#singular value decomposition\nfrom numpy import array\n",
      "execution_count": null,
      "outputs": []
    }
  ],
  "metadata": {
    "kernelspec": {
      "name": "python36",
      "display_name": "Python 3.6",
      "language": "python"
    },
    "language_info": {
      "mimetype": "text/x-python",
      "nbconvert_exporter": "python",
      "name": "python",
      "pygments_lexer": "ipython3",
      "version": "3.6.6",
      "file_extension": ".py",
      "codemirror_mode": {
        "version": 3,
        "name": "ipython"
      }
    }
  },
  "nbformat": 4,
  "nbformat_minor": 2
}